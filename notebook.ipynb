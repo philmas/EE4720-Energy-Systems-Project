{
 "cells": [
  {
   "cell_type": "markdown",
   "metadata": {},
   "source": [
    "# Week 5 Project"
   ]
  },
  {
   "cell_type": "markdown",
   "metadata": {},
   "source": [
    "## Assignment instruction"
   ]
  },
  {
   "cell_type": "markdown",
   "metadata": {},
   "source": [
    "## Code"
   ]
  },
  {
   "cell_type": "markdown",
   "metadata": {},
   "source": [
    "### Importing requirements and configuration"
   ]
  },
  {
   "cell_type": "code",
   "execution_count": 1,
   "metadata": {},
   "outputs": [],
   "source": [
    "# Imports\n",
    "import numpy as np\n",
    "import pandas as pd\n",
    "import seaborn as sns\n",
    "import matplotlib.pyplot as plt\n",
    "\n",
    "# Configuration\n",
    "sns.set(color_codes=True)\n"
   ]
  },
  {
   "cell_type": "code",
   "execution_count": 2,
   "metadata": {},
   "outputs": [],
   "source": [
    "data = pd.read_csv('./data.csv', index_col=0)"
   ]
  },
  {
   "cell_type": "markdown",
   "metadata": {},
   "source": [
    "### Exploratory analysis"
   ]
  },
  {
   "cell_type": "code",
   "execution_count": 3,
   "metadata": {},
   "outputs": [
    {
     "name": "stdout",
     "output_type": "stream",
     "text": [
      "Row count is 4955 and column count is 217\n"
     ]
    }
   ],
   "source": [
    "print(\"Row count is %i and column count is %i\" % (data.shape[0], data.shape[1]))"
   ]
  },
  {
   "cell_type": "code",
   "execution_count": 4,
   "metadata": {},
   "outputs": [
    {
     "name": "stdout",
     "output_type": "stream",
     "text": [
      "Bus Voltage-1    float64\n",
      "Bus Voltage-2    float64\n",
      "Bus Voltage-3    float64\n",
      "Bus Voltage-4    float64\n",
      "Bus Voltage-5    float64\n",
      "                  ...   \n",
      "Qflow Bus 9-6    float64\n",
      "Qflow Bus 9-7    float64\n",
      "Qflow Bus 9-8    float64\n",
      "Qflow Bus 9-9    float64\n",
      "Risk Factor      float64\n",
      "Length: 217, dtype: object\n"
     ]
    }
   ],
   "source": [
    "print(data.dtypes)\n"
   ]
  },
  {
   "cell_type": "code",
   "execution_count": 5,
   "metadata": {},
   "outputs": [
    {
     "data": {
      "text/html": [
       "<div>\n",
       "<style scoped>\n",
       "    .dataframe tbody tr th:only-of-type {\n",
       "        vertical-align: middle;\n",
       "    }\n",
       "\n",
       "    .dataframe tbody tr th {\n",
       "        vertical-align: top;\n",
       "    }\n",
       "\n",
       "    .dataframe thead th {\n",
       "        text-align: right;\n",
       "    }\n",
       "</style>\n",
       "<table border=\"1\" class=\"dataframe\">\n",
       "  <thead>\n",
       "    <tr style=\"text-align: right;\">\n",
       "      <th></th>\n",
       "      <th>Bus Voltage-1</th>\n",
       "      <th>Bus Voltage-2</th>\n",
       "      <th>Bus Voltage-3</th>\n",
       "      <th>Bus Voltage-4</th>\n",
       "      <th>Bus Voltage-5</th>\n",
       "      <th>Bus Voltage-6</th>\n",
       "      <th>Bus Voltage-7</th>\n",
       "      <th>Bus Voltage-8</th>\n",
       "      <th>Bus Voltage-9</th>\n",
       "      <th>Bus Angles-1</th>\n",
       "      <th>...</th>\n",
       "      <th>Qflow Bus 9-1</th>\n",
       "      <th>Qflow Bus 9-2</th>\n",
       "      <th>Qflow Bus 9-3</th>\n",
       "      <th>Qflow Bus 9-4</th>\n",
       "      <th>Qflow Bus 9-5</th>\n",
       "      <th>Qflow Bus 9-6</th>\n",
       "      <th>Qflow Bus 9-7</th>\n",
       "      <th>Qflow Bus 9-8</th>\n",
       "      <th>Qflow Bus 9-9</th>\n",
       "      <th>Risk Factor</th>\n",
       "    </tr>\n",
       "  </thead>\n",
       "  <tbody>\n",
       "    <tr>\n",
       "      <th>0</th>\n",
       "      <td>1.04</td>\n",
       "      <td>1.025</td>\n",
       "      <td>1.025</td>\n",
       "      <td>1.051752</td>\n",
       "      <td>1.052997</td>\n",
       "      <td>1.045422</td>\n",
       "      <td>1.045174</td>\n",
       "      <td>1.044088</td>\n",
       "      <td>1.044771</td>\n",
       "      <td>0.0</td>\n",
       "      <td>...</td>\n",
       "      <td>0.0</td>\n",
       "      <td>0.0</td>\n",
       "      <td>-34.356254</td>\n",
       "      <td>0.0</td>\n",
       "      <td>0.0</td>\n",
       "      <td>-15.395107</td>\n",
       "      <td>0.0</td>\n",
       "      <td>-10.467886</td>\n",
       "      <td>0.0</td>\n",
       "      <td>0.0</td>\n",
       "    </tr>\n",
       "    <tr>\n",
       "      <th>1</th>\n",
       "      <td>1.04</td>\n",
       "      <td>1.025</td>\n",
       "      <td>1.025</td>\n",
       "      <td>1.045137</td>\n",
       "      <td>1.021813</td>\n",
       "      <td>1.036321</td>\n",
       "      <td>1.036890</td>\n",
       "      <td>1.035527</td>\n",
       "      <td>1.038926</td>\n",
       "      <td>0.0</td>\n",
       "      <td>...</td>\n",
       "      <td>0.0</td>\n",
       "      <td>0.0</td>\n",
       "      <td>-24.130608</td>\n",
       "      <td>0.0</td>\n",
       "      <td>0.0</td>\n",
       "      <td>-25.342725</td>\n",
       "      <td>0.0</td>\n",
       "      <td>-7.625909</td>\n",
       "      <td>0.0</td>\n",
       "      <td>0.0</td>\n",
       "    </tr>\n",
       "    <tr>\n",
       "      <th>2</th>\n",
       "      <td>1.04</td>\n",
       "      <td>1.025</td>\n",
       "      <td>1.025</td>\n",
       "      <td>1.048968</td>\n",
       "      <td>1.048291</td>\n",
       "      <td>1.038432</td>\n",
       "      <td>1.042474</td>\n",
       "      <td>1.039527</td>\n",
       "      <td>1.042019</td>\n",
       "      <td>0.0</td>\n",
       "      <td>...</td>\n",
       "      <td>0.0</td>\n",
       "      <td>0.0</td>\n",
       "      <td>-29.542666</td>\n",
       "      <td>0.0</td>\n",
       "      <td>0.0</td>\n",
       "      <td>-18.642362</td>\n",
       "      <td>0.0</td>\n",
       "      <td>-11.757630</td>\n",
       "      <td>0.0</td>\n",
       "      <td>0.0</td>\n",
       "    </tr>\n",
       "    <tr>\n",
       "      <th>3</th>\n",
       "      <td>1.04</td>\n",
       "      <td>1.025</td>\n",
       "      <td>1.025</td>\n",
       "      <td>1.044267</td>\n",
       "      <td>1.038909</td>\n",
       "      <td>0.963355</td>\n",
       "      <td>1.030858</td>\n",
       "      <td>1.022136</td>\n",
       "      <td>1.023767</td>\n",
       "      <td>0.0</td>\n",
       "      <td>...</td>\n",
       "      <td>0.0</td>\n",
       "      <td>0.0</td>\n",
       "      <td>2.386848</td>\n",
       "      <td>0.0</td>\n",
       "      <td>0.0</td>\n",
       "      <td>-29.549593</td>\n",
       "      <td>0.0</td>\n",
       "      <td>-17.076432</td>\n",
       "      <td>0.0</td>\n",
       "      <td>0.0</td>\n",
       "    </tr>\n",
       "    <tr>\n",
       "      <th>4</th>\n",
       "      <td>1.04</td>\n",
       "      <td>1.025</td>\n",
       "      <td>1.025</td>\n",
       "      <td>1.045679</td>\n",
       "      <td>1.043050</td>\n",
       "      <td>1.030835</td>\n",
       "      <td>1.039573</td>\n",
       "      <td>1.034735</td>\n",
       "      <td>1.039076</td>\n",
       "      <td>0.0</td>\n",
       "      <td>...</td>\n",
       "      <td>0.0</td>\n",
       "      <td>0.0</td>\n",
       "      <td>-24.394474</td>\n",
       "      <td>0.0</td>\n",
       "      <td>0.0</td>\n",
       "      <td>-22.055516</td>\n",
       "      <td>0.0</td>\n",
       "      <td>-13.056821</td>\n",
       "      <td>0.0</td>\n",
       "      <td>0.0</td>\n",
       "    </tr>\n",
       "  </tbody>\n",
       "</table>\n",
       "<p>5 rows × 217 columns</p>\n",
       "</div>"
      ],
      "text/plain": [
       "   Bus Voltage-1  Bus Voltage-2  Bus Voltage-3  Bus Voltage-4  Bus Voltage-5  \\\n",
       "0           1.04          1.025          1.025       1.051752       1.052997   \n",
       "1           1.04          1.025          1.025       1.045137       1.021813   \n",
       "2           1.04          1.025          1.025       1.048968       1.048291   \n",
       "3           1.04          1.025          1.025       1.044267       1.038909   \n",
       "4           1.04          1.025          1.025       1.045679       1.043050   \n",
       "\n",
       "   Bus Voltage-6  Bus Voltage-7  Bus Voltage-8  Bus Voltage-9  Bus Angles-1  \\\n",
       "0       1.045422       1.045174       1.044088       1.044771           0.0   \n",
       "1       1.036321       1.036890       1.035527       1.038926           0.0   \n",
       "2       1.038432       1.042474       1.039527       1.042019           0.0   \n",
       "3       0.963355       1.030858       1.022136       1.023767           0.0   \n",
       "4       1.030835       1.039573       1.034735       1.039076           0.0   \n",
       "\n",
       "   ...  Qflow Bus 9-1  Qflow Bus 9-2  Qflow Bus 9-3  Qflow Bus 9-4  \\\n",
       "0  ...            0.0            0.0     -34.356254            0.0   \n",
       "1  ...            0.0            0.0     -24.130608            0.0   \n",
       "2  ...            0.0            0.0     -29.542666            0.0   \n",
       "3  ...            0.0            0.0       2.386848            0.0   \n",
       "4  ...            0.0            0.0     -24.394474            0.0   \n",
       "\n",
       "   Qflow Bus 9-5  Qflow Bus 9-6  Qflow Bus 9-7  Qflow Bus 9-8  Qflow Bus 9-9  \\\n",
       "0            0.0     -15.395107            0.0     -10.467886            0.0   \n",
       "1            0.0     -25.342725            0.0      -7.625909            0.0   \n",
       "2            0.0     -18.642362            0.0     -11.757630            0.0   \n",
       "3            0.0     -29.549593            0.0     -17.076432            0.0   \n",
       "4            0.0     -22.055516            0.0     -13.056821            0.0   \n",
       "\n",
       "   Risk Factor  \n",
       "0          0.0  \n",
       "1          0.0  \n",
       "2          0.0  \n",
       "3          0.0  \n",
       "4          0.0  \n",
       "\n",
       "[5 rows x 217 columns]"
      ]
     },
     "execution_count": 5,
     "metadata": {},
     "output_type": "execute_result"
    }
   ],
   "source": [
    "data.head(5)"
   ]
  },
  {
   "cell_type": "code",
   "execution_count": 6,
   "metadata": {},
   "outputs": [
    {
     "data": {
      "text/html": [
       "<div>\n",
       "<style scoped>\n",
       "    .dataframe tbody tr th:only-of-type {\n",
       "        vertical-align: middle;\n",
       "    }\n",
       "\n",
       "    .dataframe tbody tr th {\n",
       "        vertical-align: top;\n",
       "    }\n",
       "\n",
       "    .dataframe thead th {\n",
       "        text-align: right;\n",
       "    }\n",
       "</style>\n",
       "<table border=\"1\" class=\"dataframe\">\n",
       "  <thead>\n",
       "    <tr style=\"text-align: right;\">\n",
       "      <th></th>\n",
       "      <th>Bus Voltage-1</th>\n",
       "      <th>Bus Voltage-2</th>\n",
       "      <th>Bus Voltage-3</th>\n",
       "      <th>Bus Voltage-4</th>\n",
       "      <th>Bus Voltage-5</th>\n",
       "      <th>Bus Voltage-6</th>\n",
       "      <th>Bus Voltage-7</th>\n",
       "      <th>Bus Voltage-8</th>\n",
       "      <th>Bus Voltage-9</th>\n",
       "      <th>Bus Angles-1</th>\n",
       "      <th>...</th>\n",
       "      <th>Qflow Bus 9-1</th>\n",
       "      <th>Qflow Bus 9-2</th>\n",
       "      <th>Qflow Bus 9-3</th>\n",
       "      <th>Qflow Bus 9-4</th>\n",
       "      <th>Qflow Bus 9-5</th>\n",
       "      <th>Qflow Bus 9-6</th>\n",
       "      <th>Qflow Bus 9-7</th>\n",
       "      <th>Qflow Bus 9-8</th>\n",
       "      <th>Qflow Bus 9-9</th>\n",
       "      <th>Risk Factor</th>\n",
       "    </tr>\n",
       "  </thead>\n",
       "  <tbody>\n",
       "    <tr>\n",
       "      <th>4950</th>\n",
       "      <td>1.04</td>\n",
       "      <td>1.025</td>\n",
       "      <td>1.025</td>\n",
       "      <td>1.022635</td>\n",
       "      <td>1.004011</td>\n",
       "      <td>0.991431</td>\n",
       "      <td>0.994074</td>\n",
       "      <td>0.938196</td>\n",
       "      <td>1.029415</td>\n",
       "      <td>0.0</td>\n",
       "      <td>...</td>\n",
       "      <td>0.0</td>\n",
       "      <td>0.0</td>\n",
       "      <td>-5.661925</td>\n",
       "      <td>0.0</td>\n",
       "      <td>0.0</td>\n",
       "      <td>-14.718980</td>\n",
       "      <td>0.0</td>\n",
       "      <td>0.000000</td>\n",
       "      <td>0.0</td>\n",
       "      <td>1.000000</td>\n",
       "    </tr>\n",
       "    <tr>\n",
       "      <th>4951</th>\n",
       "      <td>1.04</td>\n",
       "      <td>1.025</td>\n",
       "      <td>1.025</td>\n",
       "      <td>1.027433</td>\n",
       "      <td>1.015501</td>\n",
       "      <td>0.992841</td>\n",
       "      <td>1.020574</td>\n",
       "      <td>0.995342</td>\n",
       "      <td>1.021973</td>\n",
       "      <td>0.0</td>\n",
       "      <td>...</td>\n",
       "      <td>0.0</td>\n",
       "      <td>0.0</td>\n",
       "      <td>7.369517</td>\n",
       "      <td>0.0</td>\n",
       "      <td>0.0</td>\n",
       "      <td>-26.645341</td>\n",
       "      <td>0.0</td>\n",
       "      <td>-29.016037</td>\n",
       "      <td>0.0</td>\n",
       "      <td>0.600000</td>\n",
       "    </tr>\n",
       "    <tr>\n",
       "      <th>4952</th>\n",
       "      <td>1.04</td>\n",
       "      <td>1.025</td>\n",
       "      <td>1.025</td>\n",
       "      <td>1.021805</td>\n",
       "      <td>0.926699</td>\n",
       "      <td>0.975947</td>\n",
       "      <td>0.996676</td>\n",
       "      <td>0.971266</td>\n",
       "      <td>1.006635</td>\n",
       "      <td>0.0</td>\n",
       "      <td>...</td>\n",
       "      <td>0.0</td>\n",
       "      <td>0.0</td>\n",
       "      <td>34.230410</td>\n",
       "      <td>0.0</td>\n",
       "      <td>0.0</td>\n",
       "      <td>-42.484784</td>\n",
       "      <td>0.0</td>\n",
       "      <td>-20.966076</td>\n",
       "      <td>0.0</td>\n",
       "      <td>0.333333</td>\n",
       "    </tr>\n",
       "    <tr>\n",
       "      <th>4953</th>\n",
       "      <td>1.04</td>\n",
       "      <td>1.025</td>\n",
       "      <td>1.025</td>\n",
       "      <td>1.023242</td>\n",
       "      <td>1.009582</td>\n",
       "      <td>0.984257</td>\n",
       "      <td>1.016618</td>\n",
       "      <td>0.988397</td>\n",
       "      <td>1.018144</td>\n",
       "      <td>0.0</td>\n",
       "      <td>...</td>\n",
       "      <td>0.0</td>\n",
       "      <td>0.0</td>\n",
       "      <td>14.075830</td>\n",
       "      <td>0.0</td>\n",
       "      <td>0.0</td>\n",
       "      <td>-30.354750</td>\n",
       "      <td>0.0</td>\n",
       "      <td>-30.882850</td>\n",
       "      <td>0.0</td>\n",
       "      <td>0.333333</td>\n",
       "    </tr>\n",
       "    <tr>\n",
       "      <th>4954</th>\n",
       "      <td>1.04</td>\n",
       "      <td>1.025</td>\n",
       "      <td>1.025</td>\n",
       "      <td>1.008458</td>\n",
       "      <td>0.963597</td>\n",
       "      <td>0.660016</td>\n",
       "      <td>0.961055</td>\n",
       "      <td>0.902734</td>\n",
       "      <td>0.930127</td>\n",
       "      <td>0.0</td>\n",
       "      <td>...</td>\n",
       "      <td>0.0</td>\n",
       "      <td>0.0</td>\n",
       "      <td>168.227852</td>\n",
       "      <td>0.0</td>\n",
       "      <td>0.0</td>\n",
       "      <td>-56.304444</td>\n",
       "      <td>0.0</td>\n",
       "      <td>-38.204832</td>\n",
       "      <td>0.0</td>\n",
       "      <td>0.466667</td>\n",
       "    </tr>\n",
       "  </tbody>\n",
       "</table>\n",
       "<p>5 rows × 217 columns</p>\n",
       "</div>"
      ],
      "text/plain": [
       "      Bus Voltage-1  Bus Voltage-2  Bus Voltage-3  Bus Voltage-4  \\\n",
       "4950           1.04          1.025          1.025       1.022635   \n",
       "4951           1.04          1.025          1.025       1.027433   \n",
       "4952           1.04          1.025          1.025       1.021805   \n",
       "4953           1.04          1.025          1.025       1.023242   \n",
       "4954           1.04          1.025          1.025       1.008458   \n",
       "\n",
       "      Bus Voltage-5  Bus Voltage-6  Bus Voltage-7  Bus Voltage-8  \\\n",
       "4950       1.004011       0.991431       0.994074       0.938196   \n",
       "4951       1.015501       0.992841       1.020574       0.995342   \n",
       "4952       0.926699       0.975947       0.996676       0.971266   \n",
       "4953       1.009582       0.984257       1.016618       0.988397   \n",
       "4954       0.963597       0.660016       0.961055       0.902734   \n",
       "\n",
       "      Bus Voltage-9  Bus Angles-1  ...  Qflow Bus 9-1  Qflow Bus 9-2  \\\n",
       "4950       1.029415           0.0  ...            0.0            0.0   \n",
       "4951       1.021973           0.0  ...            0.0            0.0   \n",
       "4952       1.006635           0.0  ...            0.0            0.0   \n",
       "4953       1.018144           0.0  ...            0.0            0.0   \n",
       "4954       0.930127           0.0  ...            0.0            0.0   \n",
       "\n",
       "      Qflow Bus 9-3  Qflow Bus 9-4  Qflow Bus 9-5  Qflow Bus 9-6  \\\n",
       "4950      -5.661925            0.0            0.0     -14.718980   \n",
       "4951       7.369517            0.0            0.0     -26.645341   \n",
       "4952      34.230410            0.0            0.0     -42.484784   \n",
       "4953      14.075830            0.0            0.0     -30.354750   \n",
       "4954     168.227852            0.0            0.0     -56.304444   \n",
       "\n",
       "      Qflow Bus 9-7  Qflow Bus 9-8  Qflow Bus 9-9  Risk Factor  \n",
       "4950            0.0       0.000000            0.0     1.000000  \n",
       "4951            0.0     -29.016037            0.0     0.600000  \n",
       "4952            0.0     -20.966076            0.0     0.333333  \n",
       "4953            0.0     -30.882850            0.0     0.333333  \n",
       "4954            0.0     -38.204832            0.0     0.466667  \n",
       "\n",
       "[5 rows x 217 columns]"
      ]
     },
     "execution_count": 6,
     "metadata": {},
     "output_type": "execute_result"
    }
   ],
   "source": [
    "data.tail()"
   ]
  },
  {
   "cell_type": "code",
   "execution_count": 7,
   "metadata": {},
   "outputs": [
    {
     "data": {
      "text/html": [
       "<div>\n",
       "<style scoped>\n",
       "    .dataframe tbody tr th:only-of-type {\n",
       "        vertical-align: middle;\n",
       "    }\n",
       "\n",
       "    .dataframe tbody tr th {\n",
       "        vertical-align: top;\n",
       "    }\n",
       "\n",
       "    .dataframe thead th {\n",
       "        text-align: right;\n",
       "    }\n",
       "</style>\n",
       "<table border=\"1\" class=\"dataframe\">\n",
       "  <thead>\n",
       "    <tr style=\"text-align: right;\">\n",
       "      <th></th>\n",
       "      <th>Bus Voltage-1</th>\n",
       "      <th>Bus Voltage-2</th>\n",
       "      <th>Bus Voltage-3</th>\n",
       "      <th>Bus Voltage-4</th>\n",
       "      <th>Bus Voltage-5</th>\n",
       "      <th>Bus Voltage-6</th>\n",
       "      <th>Bus Voltage-7</th>\n",
       "      <th>Bus Voltage-8</th>\n",
       "      <th>Bus Voltage-9</th>\n",
       "      <th>Bus Angles-1</th>\n",
       "      <th>...</th>\n",
       "      <th>Qflow Bus 9-1</th>\n",
       "      <th>Qflow Bus 9-2</th>\n",
       "      <th>Qflow Bus 9-3</th>\n",
       "      <th>Qflow Bus 9-4</th>\n",
       "      <th>Qflow Bus 9-5</th>\n",
       "      <th>Qflow Bus 9-6</th>\n",
       "      <th>Qflow Bus 9-7</th>\n",
       "      <th>Qflow Bus 9-8</th>\n",
       "      <th>Qflow Bus 9-9</th>\n",
       "      <th>Risk Factor</th>\n",
       "    </tr>\n",
       "  </thead>\n",
       "  <tbody>\n",
       "    <tr>\n",
       "      <th>count</th>\n",
       "      <td>4955.00</td>\n",
       "      <td>4.954000e+03</td>\n",
       "      <td>4.954000e+03</td>\n",
       "      <td>4953.000000</td>\n",
       "      <td>4952.000000</td>\n",
       "      <td>4952.000000</td>\n",
       "      <td>4952.000000</td>\n",
       "      <td>4953.000000</td>\n",
       "      <td>4952.000000</td>\n",
       "      <td>4952.0</td>\n",
       "      <td>...</td>\n",
       "      <td>4952.0</td>\n",
       "      <td>4950.0</td>\n",
       "      <td>4954.000000</td>\n",
       "      <td>4952.0</td>\n",
       "      <td>4951.0</td>\n",
       "      <td>4953.000000</td>\n",
       "      <td>4951.0</td>\n",
       "      <td>4953.000000</td>\n",
       "      <td>4951.0</td>\n",
       "      <td>4955.000000</td>\n",
       "    </tr>\n",
       "    <tr>\n",
       "      <th>mean</th>\n",
       "      <td>1.04</td>\n",
       "      <td>1.025000e+00</td>\n",
       "      <td>1.025000e+00</td>\n",
       "      <td>1.030615</td>\n",
       "      <td>1.012222</td>\n",
       "      <td>0.992949</td>\n",
       "      <td>1.027330</td>\n",
       "      <td>1.010639</td>\n",
       "      <td>1.026794</td>\n",
       "      <td>0.0</td>\n",
       "      <td>...</td>\n",
       "      <td>0.0</td>\n",
       "      <td>0.0</td>\n",
       "      <td>-2.138187</td>\n",
       "      <td>0.0</td>\n",
       "      <td>0.0</td>\n",
       "      <td>-23.967733</td>\n",
       "      <td>0.0</td>\n",
       "      <td>-17.177089</td>\n",
       "      <td>0.0</td>\n",
       "      <td>0.359435</td>\n",
       "    </tr>\n",
       "    <tr>\n",
       "      <th>std</th>\n",
       "      <td>0.00</td>\n",
       "      <td>8.694382e-08</td>\n",
       "      <td>4.262115e-08</td>\n",
       "      <td>0.011505</td>\n",
       "      <td>0.030708</td>\n",
       "      <td>0.045277</td>\n",
       "      <td>0.011577</td>\n",
       "      <td>0.024159</td>\n",
       "      <td>0.013757</td>\n",
       "      <td>0.0</td>\n",
       "      <td>...</td>\n",
       "      <td>0.0</td>\n",
       "      <td>0.0</td>\n",
       "      <td>24.133414</td>\n",
       "      <td>0.0</td>\n",
       "      <td>0.0</td>\n",
       "      <td>11.801733</td>\n",
       "      <td>0.0</td>\n",
       "      <td>9.000140</td>\n",
       "      <td>0.0</td>\n",
       "      <td>0.313263</td>\n",
       "    </tr>\n",
       "    <tr>\n",
       "      <th>min</th>\n",
       "      <td>1.04</td>\n",
       "      <td>1.025000e+00</td>\n",
       "      <td>1.025000e+00</td>\n",
       "      <td>0.955229</td>\n",
       "      <td>0.721258</td>\n",
       "      <td>0.656563</td>\n",
       "      <td>0.948898</td>\n",
       "      <td>0.846970</td>\n",
       "      <td>0.930127</td>\n",
       "      <td>0.0</td>\n",
       "      <td>...</td>\n",
       "      <td>0.0</td>\n",
       "      <td>0.0</td>\n",
       "      <td>-37.289933</td>\n",
       "      <td>0.0</td>\n",
       "      <td>0.0</td>\n",
       "      <td>-61.323504</td>\n",
       "      <td>0.0</td>\n",
       "      <td>-58.314593</td>\n",
       "      <td>0.0</td>\n",
       "      <td>0.000000</td>\n",
       "    </tr>\n",
       "    <tr>\n",
       "      <th>25%</th>\n",
       "      <td>1.04</td>\n",
       "      <td>1.025000e+00</td>\n",
       "      <td>1.025000e+00</td>\n",
       "      <td>1.024550</td>\n",
       "      <td>1.003742</td>\n",
       "      <td>0.982244</td>\n",
       "      <td>1.023329</td>\n",
       "      <td>1.002573</td>\n",
       "      <td>1.023959</td>\n",
       "      <td>0.0</td>\n",
       "      <td>...</td>\n",
       "      <td>0.0</td>\n",
       "      <td>0.0</td>\n",
       "      <td>-16.647164</td>\n",
       "      <td>0.0</td>\n",
       "      <td>0.0</td>\n",
       "      <td>-30.440607</td>\n",
       "      <td>0.0</td>\n",
       "      <td>-21.854165</td>\n",
       "      <td>0.0</td>\n",
       "      <td>0.066667</td>\n",
       "    </tr>\n",
       "    <tr>\n",
       "      <th>50%</th>\n",
       "      <td>1.04</td>\n",
       "      <td>1.025000e+00</td>\n",
       "      <td>1.025000e+00</td>\n",
       "      <td>1.032420</td>\n",
       "      <td>1.019263</td>\n",
       "      <td>1.004649</td>\n",
       "      <td>1.029734</td>\n",
       "      <td>1.016790</td>\n",
       "      <td>1.030133</td>\n",
       "      <td>0.0</td>\n",
       "      <td>...</td>\n",
       "      <td>0.0</td>\n",
       "      <td>0.0</td>\n",
       "      <td>-8.026925</td>\n",
       "      <td>0.0</td>\n",
       "      <td>0.0</td>\n",
       "      <td>-23.841514</td>\n",
       "      <td>0.0</td>\n",
       "      <td>-16.839227</td>\n",
       "      <td>0.0</td>\n",
       "      <td>0.333333</td>\n",
       "    </tr>\n",
       "    <tr>\n",
       "      <th>75%</th>\n",
       "      <td>1.04</td>\n",
       "      <td>1.025000e+00</td>\n",
       "      <td>1.025000e+00</td>\n",
       "      <td>1.038855</td>\n",
       "      <td>1.030515</td>\n",
       "      <td>1.019588</td>\n",
       "      <td>1.034868</td>\n",
       "      <td>1.026336</td>\n",
       "      <td>1.035039</td>\n",
       "      <td>0.0</td>\n",
       "      <td>...</td>\n",
       "      <td>0.0</td>\n",
       "      <td>0.0</td>\n",
       "      <td>2.912500</td>\n",
       "      <td>0.0</td>\n",
       "      <td>0.0</td>\n",
       "      <td>-17.377912</td>\n",
       "      <td>0.0</td>\n",
       "      <td>-12.511528</td>\n",
       "      <td>0.0</td>\n",
       "      <td>0.666667</td>\n",
       "    </tr>\n",
       "    <tr>\n",
       "      <th>max</th>\n",
       "      <td>1.04</td>\n",
       "      <td>1.025004e+00</td>\n",
       "      <td>1.025002e+00</td>\n",
       "      <td>1.053839</td>\n",
       "      <td>1.056295</td>\n",
       "      <td>1.052275</td>\n",
       "      <td>1.046161</td>\n",
       "      <td>1.047696</td>\n",
       "      <td>1.046448</td>\n",
       "      <td>0.0</td>\n",
       "      <td>...</td>\n",
       "      <td>0.0</td>\n",
       "      <td>0.0</td>\n",
       "      <td>168.227852</td>\n",
       "      <td>0.0</td>\n",
       "      <td>0.0</td>\n",
       "      <td>0.400269</td>\n",
       "      <td>0.0</td>\n",
       "      <td>1.448158</td>\n",
       "      <td>0.0</td>\n",
       "      <td>1.000000</td>\n",
       "    </tr>\n",
       "  </tbody>\n",
       "</table>\n",
       "<p>8 rows × 217 columns</p>\n",
       "</div>"
      ],
      "text/plain": [
       "       Bus Voltage-1  Bus Voltage-2  Bus Voltage-3  Bus Voltage-4  \\\n",
       "count        4955.00   4.954000e+03   4.954000e+03    4953.000000   \n",
       "mean            1.04   1.025000e+00   1.025000e+00       1.030615   \n",
       "std             0.00   8.694382e-08   4.262115e-08       0.011505   \n",
       "min             1.04   1.025000e+00   1.025000e+00       0.955229   \n",
       "25%             1.04   1.025000e+00   1.025000e+00       1.024550   \n",
       "50%             1.04   1.025000e+00   1.025000e+00       1.032420   \n",
       "75%             1.04   1.025000e+00   1.025000e+00       1.038855   \n",
       "max             1.04   1.025004e+00   1.025002e+00       1.053839   \n",
       "\n",
       "       Bus Voltage-5  Bus Voltage-6  Bus Voltage-7  Bus Voltage-8  \\\n",
       "count    4952.000000    4952.000000    4952.000000    4953.000000   \n",
       "mean        1.012222       0.992949       1.027330       1.010639   \n",
       "std         0.030708       0.045277       0.011577       0.024159   \n",
       "min         0.721258       0.656563       0.948898       0.846970   \n",
       "25%         1.003742       0.982244       1.023329       1.002573   \n",
       "50%         1.019263       1.004649       1.029734       1.016790   \n",
       "75%         1.030515       1.019588       1.034868       1.026336   \n",
       "max         1.056295       1.052275       1.046161       1.047696   \n",
       "\n",
       "       Bus Voltage-9  Bus Angles-1  ...  Qflow Bus 9-1  Qflow Bus 9-2  \\\n",
       "count    4952.000000        4952.0  ...         4952.0         4950.0   \n",
       "mean        1.026794           0.0  ...            0.0            0.0   \n",
       "std         0.013757           0.0  ...            0.0            0.0   \n",
       "min         0.930127           0.0  ...            0.0            0.0   \n",
       "25%         1.023959           0.0  ...            0.0            0.0   \n",
       "50%         1.030133           0.0  ...            0.0            0.0   \n",
       "75%         1.035039           0.0  ...            0.0            0.0   \n",
       "max         1.046448           0.0  ...            0.0            0.0   \n",
       "\n",
       "       Qflow Bus 9-3  Qflow Bus 9-4  Qflow Bus 9-5  Qflow Bus 9-6  \\\n",
       "count    4954.000000         4952.0         4951.0    4953.000000   \n",
       "mean       -2.138187            0.0            0.0     -23.967733   \n",
       "std        24.133414            0.0            0.0      11.801733   \n",
       "min       -37.289933            0.0            0.0     -61.323504   \n",
       "25%       -16.647164            0.0            0.0     -30.440607   \n",
       "50%        -8.026925            0.0            0.0     -23.841514   \n",
       "75%         2.912500            0.0            0.0     -17.377912   \n",
       "max       168.227852            0.0            0.0       0.400269   \n",
       "\n",
       "       Qflow Bus 9-7  Qflow Bus 9-8  Qflow Bus 9-9  Risk Factor  \n",
       "count         4951.0    4953.000000         4951.0  4955.000000  \n",
       "mean             0.0     -17.177089            0.0     0.359435  \n",
       "std              0.0       9.000140            0.0     0.313263  \n",
       "min              0.0     -58.314593            0.0     0.000000  \n",
       "25%              0.0     -21.854165            0.0     0.066667  \n",
       "50%              0.0     -16.839227            0.0     0.333333  \n",
       "75%              0.0     -12.511528            0.0     0.666667  \n",
       "max              0.0       1.448158            0.0     1.000000  \n",
       "\n",
       "[8 rows x 217 columns]"
      ]
     },
     "execution_count": 7,
     "metadata": {},
     "output_type": "execute_result"
    }
   ],
   "source": [
    "data.describe()"
   ]
  },
  {
   "cell_type": "code",
   "execution_count": 8,
   "metadata": {},
   "outputs": [
    {
     "name": "stdout",
     "output_type": "stream",
     "text": [
      "number of duplicate rows:  0\n"
     ]
    }
   ],
   "source": [
    "duplicate_rows_df = data[data.duplicated()]\n",
    "print(\"number of duplicate rows: \", duplicate_rows_df.shape[0])\n"
   ]
  },
  {
   "cell_type": "code",
   "execution_count": 9,
   "metadata": {},
   "outputs": [
    {
     "data": {
      "text/plain": [
       "Bus Voltage-1    4955\n",
       "Bus Voltage-2    4954\n",
       "Bus Voltage-3    4954\n",
       "Bus Voltage-4    4953\n",
       "Bus Voltage-5    4952\n",
       "                 ... \n",
       "Qflow Bus 9-6    4953\n",
       "Qflow Bus 9-7    4951\n",
       "Qflow Bus 9-8    4953\n",
       "Qflow Bus 9-9    4951\n",
       "Risk Factor      4955\n",
       "Length: 217, dtype: int64"
      ]
     },
     "execution_count": 9,
     "metadata": {},
     "output_type": "execute_result"
    }
   ],
   "source": [
    "data.count()"
   ]
  },
  {
   "cell_type": "code",
   "execution_count": 10,
   "metadata": {},
   "outputs": [
    {
     "name": "stdout",
     "output_type": "stream",
     "text": [
      "Maximum missing values is 6\n",
      "\n",
      "Number of missing data points per column is: \n",
      "Bus Voltage-1    0\n",
      "Bus Voltage-2    1\n",
      "Bus Voltage-3    1\n",
      "Bus Voltage-4    2\n",
      "Bus Voltage-5    3\n",
      "                ..\n",
      "Qflow Bus 9-6    2\n",
      "Qflow Bus 9-7    4\n",
      "Qflow Bus 9-8    2\n",
      "Qflow Bus 9-9    4\n",
      "Risk Factor      0\n",
      "Length: 217, dtype: int64 \n"
     ]
    }
   ],
   "source": [
    "# Finding the null values.\n",
    "miss_count = data.isnull().sum()\n",
    "print(\"Maximum missing values is %i\\n\" % np.max(miss_count))\n",
    "print(\"Number of missing data points per column is: \\n%s \"% (miss_count))\n"
   ]
  },
  {
   "cell_type": "code",
   "execution_count": 12,
   "metadata": {},
   "outputs": [
    {
     "data": {
      "image/png": "[encoded data removed]",
      "text/plain": [
       "<Figure size 1152x720 with 1 Axes>"
      ]
     },
     "metadata": {},
     "output_type": "display_data"
    }
   ],
   "source": [
    "plt.figure(figsize=(16,10))\n",
    "data.iloc[:, 0:9].boxplot();\n"
   ]
  },
  {
   "cell_type": "code",
   "execution_count": 85,
   "metadata": {},
   "outputs": [
    {
     "data": {
      "image/png": "[encoded data removed]",
      "text/plain": [
       "<Figure size 1152x720 with 1 Axes>"
      ]
     },
     "metadata": {},
     "output_type": "display_data"
    }
   ],
   "source": [
    "plt.figure(figsize=(16,10))\n",
    "data.iloc[:, 9:18].boxplot();"
   ]
  },
  {
   "cell_type": "code",
   "execution_count": 86,
   "metadata": {},
   "outputs": [
    {
     "data": {
      "image/png": "[encoded data removed]",
      "text/plain": [
       "<Figure size 1152x720 with 1 Axes>"
      ]
     },
     "metadata": {},
     "output_type": "display_data"
    }
   ],
   "source": [
    "plt.figure(figsize=(16,10))\n",
    "data.iloc[:, 18:27].boxplot();"
   ]
  },
  {
   "cell_type": "code",
   "execution_count": 88,
   "metadata": {},
   "outputs": [
    {
     "data": {
      "image/png": "[encoded data removed]",
      "text/plain": [
       "<Figure size 1152x720 with 1 Axes>"
      ]
     },
     "metadata": {},
     "output_type": "display_data"
    }
   ],
   "source": [
    "plt.figure(figsize=(16, 10))\n",
    "data.iloc[:, 27:36].boxplot();\n"
   ]
  },
  {
   "cell_type": "code",
   "execution_count": 89,
   "metadata": {},
   "outputs": [
    {
     "data": {
      "image/png": "[encoded data removed]",
      "text/plain": [
       "<Figure size 1152x720 with 1 Axes>"
      ]
     },
     "metadata": {},
     "output_type": "display_data"
    }
   ],
   "source": [
    "plt.figure(figsize=(16,10))\n",
    "data.iloc[:, 36:45].boxplot();"
   ]
  },
  {
   "cell_type": "code",
   "execution_count": 90,
   "metadata": {},
   "outputs": [
    {
     "data": {
      "image/png": "[encoded data removed]",
      "text/plain": [
       "<Figure size 1152x720 with 1 Axes>"
      ]
     },
     "metadata": {},
     "output_type": "display_data"
    }
   ],
   "source": [
    "plt.figure(figsize=(16,10))\n",
    "data.iloc[:, 45:54].boxplot();"
   ]
  },
  {
   "cell_type": "code",
   "execution_count": 102,
   "metadata": {},
   "outputs": [
    {
     "data": {
      "image/png": "[encoded data removed]",
      "text/plain": [
       "<Figure size 1152x720 with 1 Axes>"
      ]
     },
     "metadata": {},
     "output_type": "display_data"
    }
   ],
   "source": [
    "plt.figure(figsize=(16,10))\n",
    "data.iloc[:, 100:110].boxplot();\n"
   ]
  },
  {
   "cell_type": "code",
   "execution_count": 101,
   "metadata": {},
   "outputs": [
    {
     "data": {
      "image/png": "[encoded data removed]",
      "text/plain": [
       "<Figure size 1152x720 with 1 Axes>"
      ]
     },
     "metadata": {},
     "output_type": "display_data"
    }
   ],
   "source": [
    "plt.figure(figsize=(16,10))\n",
    "data.iloc[:, 54:110].boxplot();\n"
   ]
  },
  {
   "cell_type": "code",
   "execution_count": null,
   "metadata": {},
   "outputs": [],
   "source": [
    "# I want to commit this\n",
    "# I am editing the file"
   ]
  }
 ],
 "metadata": {
  "interpreter": {
   "hash": "c41277f73ba2a07e9063d34ea3120b02c2602d00248acb71f93bc6248cca996e"
  },
  "kernelspec": {
   "display_name": "Python 3.9.6 64-bit",
   "language": "python",
   "name": "python3"
  },
  "language_info": {
   "codemirror_mode": {
    "name": "ipython",
    "version": 3
   },
   "file_extension": ".py",
   "mimetype": "text/x-python",
   "name": "python",
   "nbconvert_exporter": "python",
   "pygments_lexer": "ipython3",
   "version": "3.9.6"
  },
  "orig_nbformat": 4
 },
 "nbformat": 4,
 "nbformat_minor": 2
}
